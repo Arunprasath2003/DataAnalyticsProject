{
 "cells": [
  {
   "cell_type": "code",
   "execution_count": 145,
   "id": "08c80ccc",
   "metadata": {},
   "outputs": [
    {
     "name": "stdout",
     "output_type": "stream",
     "text": [
      "+-----+\n",
      "|hello|\n",
      "+-----+\n",
      "|spark|\n",
      "+-----+\n",
      "\n"
     ]
    }
   ],
   "source": [
    "import findspark\n",
    "findspark.init()\n",
    "\n",
    "import pyspark # only run after findspark.init()\n",
    "from pyspark.sql import SparkSession\n",
    "spark = SparkSession.builder.getOrCreate()\n",
    "\n",
    "df = spark.sql('''select 'spark' as hello ''')\n",
    "df.show()"
   ]
  },
  {
   "cell_type": "code",
   "execution_count": 146,
   "id": "3a3ebb04",
   "metadata": {},
   "outputs": [
    {
     "data": {
      "text/html": [
       "\n",
       "            <div>\n",
       "                <p><b>SparkSession - in-memory</b></p>\n",
       "                \n",
       "        <div>\n",
       "            <p><b>SparkContext</b></p>\n",
       "\n",
       "            <p><a href=\"http://LAPTOP-3R1BC3I8:4040\">Spark UI</a></p>\n",
       "\n",
       "            <dl>\n",
       "              <dt>Version</dt>\n",
       "                <dd><code>v3.3.1</code></dd>\n",
       "              <dt>Master</dt>\n",
       "                <dd><code>local[*]</code></dd>\n",
       "              <dt>AppName</dt>\n",
       "                <dd><code>pyspark-shell</code></dd>\n",
       "            </dl>\n",
       "        </div>\n",
       "        \n",
       "            </div>\n",
       "        "
      ],
      "text/plain": [
       "<pyspark.sql.session.SparkSession at 0x1a63b57c340>"
      ]
     },
     "execution_count": 146,
     "metadata": {},
     "output_type": "execute_result"
    }
   ],
   "source": [
    "spark"
   ]
  },
  {
   "cell_type": "code",
   "execution_count": 147,
   "id": "0ceeb800",
   "metadata": {},
   "outputs": [],
   "source": [
    "sc=spark.sparkContext"
   ]
  },
  {
   "cell_type": "code",
   "execution_count": 148,
   "id": "274c83f8",
   "metadata": {},
   "outputs": [],
   "source": [
    "#Load the data\n",
    "rdd=sc.textFile('CaliforniaHousing//cal_housing.data')"
   ]
  },
  {
   "cell_type": "code",
   "execution_count": 149,
   "id": "f34bf167",
   "metadata": {},
   "outputs": [],
   "source": [
    "#load the header\n",
    "header=sc.textFile('CaliforniaHousing//cal_housing.domain')"
   ]
  },
  {
   "cell_type": "code",
   "execution_count": 150,
   "id": "d1006ef7",
   "metadata": {},
   "outputs": [
    {
     "data": {
      "text/plain": [
       "['longitude: continuous.',\n",
       " 'latitude: continuous.',\n",
       " 'housingMedianAge: continuous. ',\n",
       " 'totalRooms: continuous. ',\n",
       " 'totalBedrooms: continuous. ',\n",
       " 'population: continuous. ',\n",
       " 'households: continuous. ',\n",
       " 'medianIncome: continuous. ',\n",
       " 'medianHouseValue: continuous. ']"
      ]
     },
     "execution_count": 150,
     "metadata": {},
     "output_type": "execute_result"
    }
   ],
   "source": [
    "header.collect()"
   ]
  },
  {
   "cell_type": "code",
   "execution_count": 151,
   "id": "320cec48",
   "metadata": {},
   "outputs": [
    {
     "data": {
      "text/plain": [
       "['-122.230000,37.880000,41.000000,880.000000,129.000000,322.000000,126.000000,8.325200,452600.000000',\n",
       " '-122.220000,37.860000,21.000000,7099.000000,1106.000000,2401.000000,1138.000000,8.301400,358500.000000']"
      ]
     },
     "execution_count": 151,
     "metadata": {},
     "output_type": "execute_result"
    }
   ],
   "source": [
    "rdd.take(2)"
   ]
  },
  {
   "cell_type": "code",
   "execution_count": 152,
   "id": "cbc8722b",
   "metadata": {},
   "outputs": [],
   "source": [
    "rdd=rdd.map(lambda line: line.split(\",\")) #split lines on commas"
   ]
  },
  {
   "cell_type": "code",
   "execution_count": 153,
   "id": "d394df24",
   "metadata": {},
   "outputs": [
    {
     "data": {
      "text/plain": [
       "[['-122.230000',\n",
       "  '37.880000',\n",
       "  '41.000000',\n",
       "  '880.000000',\n",
       "  '129.000000',\n",
       "  '322.000000',\n",
       "  '126.000000',\n",
       "  '8.325200',\n",
       "  '452600.000000'],\n",
       " ['-122.220000',\n",
       "  '37.860000',\n",
       "  '21.000000',\n",
       "  '7099.000000',\n",
       "  '1106.000000',\n",
       "  '2401.000000',\n",
       "  '1138.000000',\n",
       "  '8.301400',\n",
       "  '358500.000000']]"
      ]
     },
     "execution_count": 153,
     "metadata": {},
     "output_type": "execute_result"
    }
   ],
   "source": [
    "rdd.take(2)"
   ]
  },
  {
   "cell_type": "code",
   "execution_count": 154,
   "id": "12caa9fe",
   "metadata": {},
   "outputs": [
    {
     "data": {
      "text/plain": [
       "['-122.230000',\n",
       " '37.880000',\n",
       " '41.000000',\n",
       " '880.000000',\n",
       " '129.000000',\n",
       " '322.000000',\n",
       " '126.000000',\n",
       " '8.325200',\n",
       " '452600.000000']"
      ]
     },
     "execution_count": 154,
     "metadata": {},
     "output_type": "execute_result"
    }
   ],
   "source": [
    "rdd.first()"
   ]
  },
  {
   "cell_type": "code",
   "execution_count": 155,
   "id": "cac5a10e",
   "metadata": {},
   "outputs": [
    {
     "data": {
      "text/plain": [
       "[['-124.350000',\n",
       "  '40.540000',\n",
       "  '52.000000',\n",
       "  '1820.000000',\n",
       "  '300.000000',\n",
       "  '806.000000',\n",
       "  '270.000000',\n",
       "  '3.014700',\n",
       "  '94600.000000'],\n",
       " ['-124.300000',\n",
       "  '41.840000',\n",
       "  '17.000000',\n",
       "  '2677.000000',\n",
       "  '531.000000',\n",
       "  '1244.000000',\n",
       "  '456.000000',\n",
       "  '3.031300',\n",
       "  '103600.000000']]"
      ]
     },
     "execution_count": 155,
     "metadata": {},
     "output_type": "execute_result"
    }
   ],
   "source": [
    "rdd.top(2)"
   ]
  },
  {
   "cell_type": "code",
   "execution_count": 156,
   "id": "63bea4b0",
   "metadata": {},
   "outputs": [],
   "source": [
    "from pyspark.sql import Row\n",
    "#RDD to a Df\n",
    "df=rdd.map(lambda line: Row(longitude=line[0],\n",
    "                           latitude=line[1],\n",
    "                           housingMedianAge=line[2],\n",
    "                           totalRooms=line[3],\n",
    "                           totalBedRooms=line[4],\n",
    "                           population=line[5],\n",
    "                           households=line[6],\n",
    "                           medianIncome=line[7],\n",
    "                           medianHouseValue=line[8])).toDF()"
   ]
  },
  {
   "cell_type": "code",
   "execution_count": 157,
   "id": "35c3d4e5",
   "metadata": {},
   "outputs": [
    {
     "name": "stdout",
     "output_type": "stream",
     "text": [
      "+-----------+---------+----------------+-----------+-------------+-----------+-----------+------------+----------------+\n",
      "|  longitude| latitude|housingMedianAge| totalRooms|totalBedRooms| population| households|medianIncome|medianHouseValue|\n",
      "+-----------+---------+----------------+-----------+-------------+-----------+-----------+------------+----------------+\n",
      "|-122.230000|37.880000|       41.000000| 880.000000|   129.000000| 322.000000| 126.000000|    8.325200|   452600.000000|\n",
      "|-122.220000|37.860000|       21.000000|7099.000000|  1106.000000|2401.000000|1138.000000|    8.301400|   358500.000000|\n",
      "|-122.240000|37.850000|       52.000000|1467.000000|   190.000000| 496.000000| 177.000000|    7.257400|   352100.000000|\n",
      "|-122.250000|37.850000|       52.000000|1274.000000|   235.000000| 558.000000| 219.000000|    5.643100|   341300.000000|\n",
      "|-122.250000|37.850000|       52.000000|1627.000000|   280.000000| 565.000000| 259.000000|    3.846200|   342200.000000|\n",
      "|-122.250000|37.850000|       52.000000| 919.000000|   213.000000| 413.000000| 193.000000|    4.036800|   269700.000000|\n",
      "|-122.250000|37.840000|       52.000000|2535.000000|   489.000000|1094.000000| 514.000000|    3.659100|   299200.000000|\n",
      "|-122.250000|37.840000|       52.000000|3104.000000|   687.000000|1157.000000| 647.000000|    3.120000|   241400.000000|\n",
      "|-122.260000|37.840000|       42.000000|2555.000000|   665.000000|1206.000000| 595.000000|    2.080400|   226700.000000|\n",
      "|-122.250000|37.840000|       52.000000|3549.000000|   707.000000|1551.000000| 714.000000|    3.691200|   261100.000000|\n",
      "|-122.260000|37.850000|       52.000000|2202.000000|   434.000000| 910.000000| 402.000000|    3.203100|   281500.000000|\n",
      "|-122.260000|37.850000|       52.000000|3503.000000|   752.000000|1504.000000| 734.000000|    3.270500|   241800.000000|\n",
      "|-122.260000|37.850000|       52.000000|2491.000000|   474.000000|1098.000000| 468.000000|    3.075000|   213500.000000|\n",
      "|-122.260000|37.840000|       52.000000| 696.000000|   191.000000| 345.000000| 174.000000|    2.673600|   191300.000000|\n",
      "|-122.260000|37.850000|       52.000000|2643.000000|   626.000000|1212.000000| 620.000000|    1.916700|   159200.000000|\n",
      "|-122.260000|37.850000|       50.000000|1120.000000|   283.000000| 697.000000| 264.000000|    2.125000|   140000.000000|\n",
      "|-122.270000|37.850000|       52.000000|1966.000000|   347.000000| 793.000000| 331.000000|    2.775000|   152500.000000|\n",
      "|-122.270000|37.850000|       52.000000|1228.000000|   293.000000| 648.000000| 303.000000|    2.120200|   155500.000000|\n",
      "|-122.260000|37.840000|       50.000000|2239.000000|   455.000000| 990.000000| 419.000000|    1.991100|   158700.000000|\n",
      "|-122.270000|37.840000|       52.000000|1503.000000|   298.000000| 690.000000| 275.000000|    2.603300|   162900.000000|\n",
      "+-----------+---------+----------------+-----------+-------------+-----------+-----------+------------+----------------+\n",
      "only showing top 20 rows\n",
      "\n"
     ]
    }
   ],
   "source": [
    "df.show()"
   ]
  },
  {
   "cell_type": "code",
   "execution_count": 158,
   "id": "538d82d7",
   "metadata": {},
   "outputs": [
    {
     "data": {
      "text/plain": [
       "['longitude',\n",
       " 'latitude',\n",
       " 'housingMedianAge',\n",
       " 'totalRooms',\n",
       " 'totalBedRooms',\n",
       " 'population',\n",
       " 'households',\n",
       " 'medianIncome',\n",
       " 'medianHouseValue']"
      ]
     },
     "execution_count": 158,
     "metadata": {},
     "output_type": "execute_result"
    }
   ],
   "source": [
    "df.columns"
   ]
  },
  {
   "cell_type": "code",
   "execution_count": 159,
   "id": "2a198c55",
   "metadata": {},
   "outputs": [
    {
     "data": {
      "text/plain": [
       "[('longitude', 'string'),\n",
       " ('latitude', 'string'),\n",
       " ('housingMedianAge', 'string'),\n",
       " ('totalRooms', 'string'),\n",
       " ('totalBedRooms', 'string'),\n",
       " ('population', 'string'),\n",
       " ('households', 'string'),\n",
       " ('medianIncome', 'string'),\n",
       " ('medianHouseValue', 'string')]"
      ]
     },
     "execution_count": 159,
     "metadata": {},
     "output_type": "execute_result"
    }
   ],
   "source": [
    "df.dtypes"
   ]
  },
  {
   "cell_type": "code",
   "execution_count": 160,
   "id": "28536622",
   "metadata": {},
   "outputs": [
    {
     "name": "stdout",
     "output_type": "stream",
     "text": [
      "root\n",
      " |-- longitude: string (nullable = true)\n",
      " |-- latitude: string (nullable = true)\n",
      " |-- housingMedianAge: string (nullable = true)\n",
      " |-- totalRooms: string (nullable = true)\n",
      " |-- totalBedRooms: string (nullable = true)\n",
      " |-- population: string (nullable = true)\n",
      " |-- households: string (nullable = true)\n",
      " |-- medianIncome: string (nullable = true)\n",
      " |-- medianHouseValue: string (nullable = true)\n",
      "\n"
     ]
    }
   ],
   "source": [
    "df.printSchema()"
   ]
  },
  {
   "cell_type": "code",
   "execution_count": 161,
   "id": "0612896a",
   "metadata": {},
   "outputs": [],
   "source": [
    "#change the dtype of the columns\n",
    "from pyspark.sql.types import *\n",
    "\n",
    "def convertCol(df,names,newType):\n",
    "    for i in names:\n",
    "        df=df.withColumn(i,df[i].cast(newType))\n",
    "    return df\n",
    "\n",
    "columns=df.columns\n",
    "df=convertCol(df,columns,FloatType())"
   ]
  },
  {
   "cell_type": "code",
   "execution_count": 162,
   "id": "75742294",
   "metadata": {},
   "outputs": [
    {
     "name": "stdout",
     "output_type": "stream",
     "text": [
      "root\n",
      " |-- longitude: float (nullable = true)\n",
      " |-- latitude: float (nullable = true)\n",
      " |-- housingMedianAge: float (nullable = true)\n",
      " |-- totalRooms: float (nullable = true)\n",
      " |-- totalBedRooms: float (nullable = true)\n",
      " |-- population: float (nullable = true)\n",
      " |-- households: float (nullable = true)\n",
      " |-- medianIncome: float (nullable = true)\n",
      " |-- medianHouseValue: float (nullable = true)\n",
      "\n"
     ]
    }
   ],
   "source": [
    "df.printSchema()"
   ]
  },
  {
   "cell_type": "code",
   "execution_count": 163,
   "id": "047a6138",
   "metadata": {},
   "outputs": [
    {
     "name": "stdout",
     "output_type": "stream",
     "text": [
      "+----------+-------------+\n",
      "|population|totalBedRooms|\n",
      "+----------+-------------+\n",
      "|     322.0|        129.0|\n",
      "|    2401.0|       1106.0|\n",
      "|     496.0|        190.0|\n",
      "|     558.0|        235.0|\n",
      "|     565.0|        280.0|\n",
      "|     413.0|        213.0|\n",
      "|    1094.0|        489.0|\n",
      "|    1157.0|        687.0|\n",
      "|    1206.0|        665.0|\n",
      "|    1551.0|        707.0|\n",
      "+----------+-------------+\n",
      "only showing top 10 rows\n",
      "\n"
     ]
    }
   ],
   "source": [
    "df.select('population','totalBedRooms').show(10)"
   ]
  },
  {
   "cell_type": "code",
   "execution_count": 164,
   "id": "2ce1db48",
   "metadata": {},
   "outputs": [
    {
     "name": "stdout",
     "output_type": "stream",
     "text": [
      "+----------------+-----+\n",
      "|housingMedianAge|count|\n",
      "+----------------+-----+\n",
      "|            52.0| 1273|\n",
      "|            51.0|   48|\n",
      "|            50.0|  136|\n",
      "|            49.0|  134|\n",
      "|            48.0|  177|\n",
      "|            47.0|  198|\n",
      "|            46.0|  245|\n",
      "|            45.0|  294|\n",
      "|            44.0|  356|\n",
      "|            43.0|  353|\n",
      "|            42.0|  368|\n",
      "|            41.0|  296|\n",
      "|            40.0|  304|\n",
      "|            39.0|  369|\n",
      "|            38.0|  394|\n",
      "|            37.0|  537|\n",
      "|            36.0|  862|\n",
      "|            35.0|  824|\n",
      "|            34.0|  689|\n",
      "|            33.0|  615|\n",
      "+----------------+-----+\n",
      "only showing top 20 rows\n",
      "\n"
     ]
    }
   ],
   "source": [
    "df.groupBy('housingMedianAge').count().sort(\"housingMedianAge\",ascending=False).show()"
   ]
  },
  {
   "cell_type": "code",
   "execution_count": 165,
   "id": "b2c5fdc2",
   "metadata": {},
   "outputs": [
    {
     "name": "stdout",
     "output_type": "stream",
     "text": [
      "+-------+-------------------+------------------+------------------+------------------+-----------------+------------------+------------------+------------------+------------------+\n",
      "|summary|          longitude|          latitude|  housingMedianAge|        totalRooms|    totalBedRooms|        population|        households|      medianIncome|  medianHouseValue|\n",
      "+-------+-------------------+------------------+------------------+------------------+-----------------+------------------+------------------+------------------+------------------+\n",
      "|  count|              20640|             20640|             20640|             20640|            20640|             20640|             20640|             20640|             20640|\n",
      "|   mean|-119.56970444871473| 35.63186143109965|28.639486434108527|2635.7630813953488|537.8980135658915|1425.4767441860465| 499.5396802325581|3.8706710030346416|206855.81690891474|\n",
      "| stddev| 2.0035317429328914|2.1359523806029554|12.585557612111613|2181.6152515827994|421.2479059431315|1132.4621217653385|382.32975283161136|1.8998217183639672|115395.61587441381|\n",
      "|    min|            -124.35|             32.54|               1.0|               2.0|              1.0|               3.0|               1.0|            0.4999|           14999.0|\n",
      "|    max|            -114.31|             41.95|              52.0|           39320.0|           6445.0|           35682.0|            6082.0|           15.0001|          500001.0|\n",
      "+-------+-------------------+------------------+------------------+------------------+-----------------+------------------+------------------+------------------+------------------+\n",
      "\n"
     ]
    }
   ],
   "source": [
    "df.describe().show()"
   ]
  },
  {
   "cell_type": "code",
   "execution_count": 166,
   "id": "188a3d70",
   "metadata": {},
   "outputs": [],
   "source": [
    "from pyspark.sql import functions as F"
   ]
  },
  {
   "cell_type": "code",
   "execution_count": 167,
   "id": "440d8daa",
   "metadata": {},
   "outputs": [
    {
     "name": "stdout",
     "output_type": "stream",
     "text": [
      "+---------+--------+----------------+----------+-------------+----------+----------+------------+----------------+\n",
      "|longitude|latitude|housingMedianAge|totalRooms|totalBedRooms|population|households|medianIncome|medianHouseValue|\n",
      "+---------+--------+----------------+----------+-------------+----------+----------+------------+----------------+\n",
      "|        0|       0|               0|         0|            0|         0|         0|           0|               0|\n",
      "+---------+--------+----------------+----------+-------------+----------+----------+------------+----------------+\n",
      "\n"
     ]
    }
   ],
   "source": [
    "df.select([F.count(F.when(F.isnan(c)| F.col(c).isNull(),c)).alias(c) for c in df.columns]).show() #no.of missing values"
   ]
  },
  {
   "cell_type": "code",
   "execution_count": 168,
   "id": "759bd9c0",
   "metadata": {},
   "outputs": [
    {
     "data": {
      "text/plain": [
       "[Row(longitude=-122.2300033569336, latitude=37.880001068115234, housingMedianAge=41.0, totalRooms=880.0, totalBedRooms=129.0, population=322.0, households=126.0, medianIncome=8.325200080871582, medianHouseValue=4.526),\n",
       " Row(longitude=-122.22000122070312, latitude=37.86000061035156, housingMedianAge=21.0, totalRooms=7099.0, totalBedRooms=1106.0, population=2401.0, households=1138.0, medianIncome=8.301400184631348, medianHouseValue=3.585)]"
      ]
     },
     "execution_count": 168,
     "metadata": {},
     "output_type": "execute_result"
    }
   ],
   "source": [
    "#preprocessing\n",
    "from pyspark.sql.functions import *\n",
    "df=df.withColumn(\"medianHouseValue\",col(\"medianHouseValue\")/100000) #adjust the values\n",
    "df.take(2)"
   ]
  },
  {
   "cell_type": "code",
   "execution_count": 169,
   "id": "0b0c55c8",
   "metadata": {},
   "outputs": [
    {
     "data": {
      "text/plain": [
       "Row(longitude=-122.2300033569336, latitude=37.880001068115234, housingMedianAge=41.0, totalRooms=880.0, totalBedRooms=129.0, population=322.0, households=126.0, medianIncome=8.325200080871582, medianHouseValue=4.526, roomsPerHousehold=6.984126984126984, populationPerHousehold=2.5555555555555554, bedroomsPerRoom=0.14659090909090908)"
      ]
     },
     "execution_count": 169,
     "metadata": {},
     "output_type": "execute_result"
    }
   ],
   "source": [
    "#feature engineering\n",
    "roomsPerHousehold=df.select(col(\"totalRooms\")/col(\"households\"))\n",
    "populationPerHousehold=df.select(col(\"population\")/col(\"houseHolds\"))\n",
    "bedroomsPerRoom=df.select(col(\"totalBedRooms\")/col(\"totalRooms\"))\n",
    "df=df.withColumn(\"roomsPerHousehold\",col(\"totalRooms\")/col(\"households\")).withColumn(\"populationPerHousehold\",col(\"population\")/col(\"houseHolds\")).withColumn(\"bedroomsPerRoom\",col(\"totalBedRooms\")/col(\"totalRooms\"))\n",
    "df.first()"
   ]
  },
  {
   "cell_type": "code",
   "execution_count": 170,
   "id": "ceb037bc",
   "metadata": {},
   "outputs": [
    {
     "data": {
      "text/plain": [
       "['longitude',\n",
       " 'latitude',\n",
       " 'housingMedianAge',\n",
       " 'totalRooms',\n",
       " 'totalBedRooms',\n",
       " 'population',\n",
       " 'households',\n",
       " 'medianIncome',\n",
       " 'medianHouseValue',\n",
       " 'roomsPerHousehold',\n",
       " 'populationPerHousehold',\n",
       " 'bedroomsPerRoom']"
      ]
     },
     "execution_count": 170,
     "metadata": {},
     "output_type": "execute_result"
    }
   ],
   "source": [
    "df.columns"
   ]
  },
  {
   "cell_type": "code",
   "execution_count": 171,
   "id": "a3a09b50",
   "metadata": {},
   "outputs": [
    {
     "data": {
      "text/plain": [
       "12"
      ]
     },
     "execution_count": 171,
     "metadata": {},
     "output_type": "execute_result"
    }
   ],
   "source": [
    "len(df.columns)"
   ]
  },
  {
   "cell_type": "code",
   "execution_count": 172,
   "id": "751824a1",
   "metadata": {},
   "outputs": [],
   "source": [
    "#re-order the columns\n",
    "df=df.select(\"medianHouseValue\",\n",
    "            \"longitude\",\n",
    "            \"latitude\",\n",
    "            \"totalRooms\",\n",
    "            \"housingMedianAge\",\n",
    "            \"totalBedRooms\",\n",
    "            \"population\",\n",
    "            \"households\",\n",
    "            \"medianIncome\",\n",
    "            \"roomsPerHousehold\",\n",
    "            \"populationPerHousehold\",\n",
    "            \"bedroomsPerRoom\")"
   ]
  },
  {
   "cell_type": "code",
   "execution_count": 173,
   "id": "fee6c75f",
   "metadata": {},
   "outputs": [
    {
     "name": "stdout",
     "output_type": "stream",
     "text": [
      "+----------------+---------+--------+----------+----------------+-------------+----------+----------+------------+------------------+----------------------+-------------------+\n",
      "|medianHouseValue|longitude|latitude|totalRooms|housingMedianAge|totalBedRooms|population|households|medianIncome| roomsPerHousehold|populationPerHousehold|    bedroomsPerRoom|\n",
      "+----------------+---------+--------+----------+----------------+-------------+----------+----------+------------+------------------+----------------------+-------------------+\n",
      "|           4.526|  -122.23|   37.88|     880.0|            41.0|        129.0|     322.0|     126.0|      8.3252| 6.984126984126984|    2.5555555555555554|0.14659090909090908|\n",
      "|           3.585|  -122.22|   37.86|    7099.0|            21.0|       1106.0|    2401.0|    1138.0|      8.3014| 6.238137082601054|     2.109841827768014|0.15579659106916466|\n",
      "|           3.521|  -122.24|   37.85|    1467.0|            52.0|        190.0|     496.0|     177.0|      7.2574| 8.288135593220339|    2.8022598870056497|0.12951601908657123|\n",
      "|           3.413|  -122.25|   37.85|    1274.0|            52.0|        235.0|     558.0|     219.0|      5.6431|5.8173515981735155|     2.547945205479452|0.18445839874411302|\n",
      "|           3.422|  -122.25|   37.85|    1627.0|            52.0|        280.0|     565.0|     259.0|      3.8462| 6.281853281853282|    2.1814671814671813| 0.1720958819913952|\n",
      "|           2.697|  -122.25|   37.85|     919.0|            52.0|        213.0|     413.0|     193.0|      4.0368| 4.761658031088083|     2.139896373056995|0.23177366702937977|\n",
      "|           2.992|  -122.25|   37.84|    2535.0|            52.0|        489.0|    1094.0|     514.0|      3.6591|4.9319066147859925|    2.1284046692607004|0.19289940828402366|\n",
      "|           2.414|  -122.25|   37.84|    3104.0|            52.0|        687.0|    1157.0|     647.0|        3.12| 4.797527047913447|    1.7882534775888717|0.22132731958762886|\n",
      "|           2.267|  -122.26|   37.84|    2555.0|            42.0|        665.0|    1206.0|     595.0|      2.0804| 4.294117647058823|     2.026890756302521| 0.2602739726027397|\n",
      "|           2.611|  -122.25|   37.84|    3549.0|            52.0|        707.0|    1551.0|     714.0|      3.6912| 4.970588235294118|     2.172268907563025| 0.1992110453648915|\n",
      "|           2.815|  -122.26|   37.85|    2202.0|            52.0|        434.0|     910.0|     402.0|      3.2031| 5.477611940298507|     2.263681592039801|0.19709355131698456|\n",
      "|           2.418|  -122.26|   37.85|    3503.0|            52.0|        752.0|    1504.0|     734.0|      3.2705| 4.772479564032698|    2.0490463215258856| 0.2146731373108764|\n",
      "|           2.135|  -122.26|   37.85|    2491.0|            52.0|        474.0|    1098.0|     468.0|       3.075| 5.322649572649572|    2.3461538461538463| 0.1902850260939382|\n",
      "|           1.913|  -122.26|   37.84|     696.0|            52.0|        191.0|     345.0|     174.0|      2.6736|               4.0|    1.9827586206896552| 0.2744252873563218|\n",
      "|           1.592|  -122.26|   37.85|    2643.0|            52.0|        626.0|    1212.0|     620.0|      1.9167| 4.262903225806451|    1.9548387096774194|0.23685206205069997|\n",
      "|             1.4|  -122.26|   37.85|    1120.0|            50.0|        283.0|     697.0|     264.0|       2.125| 4.242424242424242|     2.640151515151515| 0.2526785714285714|\n",
      "|           1.525|  -122.27|   37.85|    1966.0|            52.0|        347.0|     793.0|     331.0|       2.775|5.9395770392749245|     2.395770392749245|0.17650050864699898|\n",
      "|           1.555|  -122.27|   37.85|    1228.0|            52.0|        293.0|     648.0|     303.0|      2.1202| 4.052805280528053|    2.1386138613861387|0.23859934853420195|\n",
      "|           1.587|  -122.26|   37.84|    2239.0|            50.0|        455.0|     990.0|     419.0|      1.9911| 5.343675417661098|    2.3627684964200477|0.20321572130415363|\n",
      "|           1.629|  -122.27|   37.84|    1503.0|            52.0|        298.0|     690.0|     275.0|      2.6033| 5.465454545454546|    2.5090909090909093|0.19827012641383898|\n",
      "+----------------+---------+--------+----------+----------------+-------------+----------+----------+------------+------------------+----------------------+-------------------+\n",
      "only showing top 20 rows\n",
      "\n"
     ]
    }
   ],
   "source": [
    "df.show()"
   ]
  },
  {
   "cell_type": "code",
   "execution_count": 174,
   "id": "2973b4d4",
   "metadata": {},
   "outputs": [],
   "source": [
    "from pyspark.ml.linalg import DenseVector\n",
    "input_data=df.rdd.map(lambda x: (x[0],DenseVector(x[1:])))"
   ]
  },
  {
   "cell_type": "code",
   "execution_count": 175,
   "id": "24696072",
   "metadata": {},
   "outputs": [],
   "source": [
    "df=spark.createDataFrame(input_data,[\"label\",\"features\"])"
   ]
  },
  {
   "cell_type": "code",
   "execution_count": 176,
   "id": "dadeca16",
   "metadata": {},
   "outputs": [
    {
     "data": {
      "text/plain": [
       "[Row(label=4.526, features=DenseVector([-122.23, 37.88, 880.0, 41.0, 129.0, 322.0, 126.0, 8.3252, 6.9841, 2.5556, 0.1466])),\n",
       " Row(label=3.585, features=DenseVector([-122.22, 37.86, 7099.0, 21.0, 1106.0, 2401.0, 1138.0, 8.3014, 6.2381, 2.1098, 0.1558]))]"
      ]
     },
     "execution_count": 176,
     "metadata": {},
     "output_type": "execute_result"
    }
   ],
   "source": [
    "df.take(2)"
   ]
  },
  {
   "cell_type": "code",
   "execution_count": 177,
   "id": "d40621dd",
   "metadata": {},
   "outputs": [
    {
     "data": {
      "text/plain": [
       "[Row(label=4.526, features=DenseVector([-122.23, 37.88, 880.0, 41.0, 129.0, 322.0, 126.0, 8.3252, 6.9841, 2.5556, 0.1466]), features_scaled=DenseVector([-61.0073, 17.7345, 0.4034, 3.2577, 0.3062, 0.2843, 0.3296, 4.3821, 2.8228, 0.2461, 2.5264])),\n",
       " Row(label=3.585, features=DenseVector([-122.22, 37.86, 7099.0, 21.0, 1106.0, 2401.0, 1138.0, 8.3014, 6.2381, 2.1098, 0.1558]), features_scaled=DenseVector([-61.0023, 17.7251, 3.254, 1.6686, 2.6255, 2.1202, 2.9765, 4.3696, 2.5213, 0.2031, 2.6851]))]"
      ]
     },
     "execution_count": 177,
     "metadata": {},
     "output_type": "execute_result"
    }
   ],
   "source": [
    "from pyspark.ml.feature import StandardScaler\n",
    "standardScaler=StandardScaler(inputCol=\"features\",outputCol=\"features_scaled\")\n",
    "scaler=standardScaler.fit(df)\n",
    "scaled_df=scaler.transform(df)\n",
    "scaled_df.take(2)"
   ]
  },
  {
   "cell_type": "code",
   "execution_count": 178,
   "id": "f9f64f23",
   "metadata": {},
   "outputs": [],
   "source": [
    "#split the data into train and test sets\n",
    "train_data, test_data =scaled_df.randomSplit([.8,.2],seed=1234)"
   ]
  },
  {
   "cell_type": "markdown",
   "id": "0c087be4",
   "metadata": {},
   "source": [
    "### DecisionTree Regression Model"
   ]
  },
  {
   "cell_type": "code",
   "execution_count": 179,
   "id": "62a9186c",
   "metadata": {},
   "outputs": [],
   "source": [
    "from pyspark.ml.regression import DecisionTreeRegressor"
   ]
  },
  {
   "cell_type": "code",
   "execution_count": 180,
   "id": "8a01f901",
   "metadata": {},
   "outputs": [],
   "source": [
    "dtr=DecisionTreeRegressor().setFeaturesCol(\"features\").setLabelCol(\"label\")"
   ]
  },
  {
   "cell_type": "code",
   "execution_count": 181,
   "id": "281b2610",
   "metadata": {},
   "outputs": [],
   "source": [
    "#Train the model using our training data\n",
    "model = dtr.fit(train_data)"
   ]
  },
  {
   "cell_type": "code",
   "execution_count": 182,
   "id": "91a3c271",
   "metadata": {},
   "outputs": [],
   "source": [
    "# Now see if we can predict values in our test data.\n",
    "# Generate predictions using our decision tree model for all features in our\n",
    "# test dataframe:\n",
    "fullPredictions = model.transform(test_data).cache()"
   ]
  },
  {
   "cell_type": "code",
   "execution_count": 183,
   "id": "a70cd500",
   "metadata": {},
   "outputs": [],
   "source": [
    "# Extract the predictions and the \"known\" correct labels.\n",
    "predictions = fullPredictions.select(\"prediction\").rdd.map(lambda x: x[0])\n",
    "labels = fullPredictions.select(\"label\").rdd.map(lambda x: x[0])"
   ]
  },
  {
   "cell_type": "code",
   "execution_count": 184,
   "id": "a6f071a4",
   "metadata": {},
   "outputs": [],
   "source": [
    "predictionAndLabel = predictions.zip(labels).collect()"
   ]
  },
  {
   "cell_type": "code",
   "execution_count": 185,
   "id": "41d1949f",
   "metadata": {},
   "outputs": [
    {
     "data": {
      "text/plain": [
       "[(2.6231063698630153, 0.14999),\n",
       " (1.2669072536231885, 0.225),\n",
       " (1.2299937373737373, 0.388),\n",
       " (0.8883356511627906, 0.394),\n",
       " (1.2299937373737373, 0.396),\n",
       " (0.8883356511627906, 0.398),\n",
       " (0.8883356511627906, 0.4),\n",
       " (0.8883356511627906, 0.431),\n",
       " (0.8883356511627906, 0.44),\n",
       " (0.8883356511627906, 0.441)]"
      ]
     },
     "execution_count": 185,
     "metadata": {},
     "output_type": "execute_result"
    }
   ],
   "source": [
    "predictionAndLabel[:10]"
   ]
  },
  {
   "cell_type": "markdown",
   "id": "90019991",
   "metadata": {},
   "source": [
    "### Multi Linear Regression Model"
   ]
  },
  {
   "cell_type": "code",
   "execution_count": 186,
   "id": "542564ae",
   "metadata": {},
   "outputs": [],
   "source": [
    "from pyspark.ml.regression import LinearRegression\n",
    "lr=LinearRegression(labelCol=\"label\",maxIter=10,regParam=0.3,elasticNetParam=0.8)\n",
    "linearModel=lr.fit(train_data)"
   ]
  },
  {
   "cell_type": "code",
   "execution_count": 187,
   "id": "23f99e13",
   "metadata": {},
   "outputs": [],
   "source": [
    "predicted=linearModel.transform(test_data)\n",
    "# Extract the predictions and the \"known\" correct labels.\n",
    "predictions = predicted.select(\"prediction\").rdd.map(lambda x: x[0])\n",
    "labels = predicted.select(\"label\").rdd.map(lambda x: x[0])"
   ]
  },
  {
   "cell_type": "code",
   "execution_count": 188,
   "id": "009fa950",
   "metadata": {},
   "outputs": [],
   "source": [
    "predictionAndLabel = predictions.zip(labels).collect()"
   ]
  },
  {
   "cell_type": "code",
   "execution_count": 189,
   "id": "2326d8d8",
   "metadata": {},
   "outputs": [
    {
     "data": {
      "text/plain": [
       "[(2.153236851984058, 0.14999),\n",
       " (1.7326700927043543, 0.225),\n",
       " (1.528370308475635, 0.388),\n",
       " (1.4190595193689608, 0.394),\n",
       " (1.282878145066965, 0.396),\n",
       " (1.5209462515074308, 0.398),\n",
       " (1.457952674892077, 0.4),\n",
       " (1.3675344208194558, 0.431),\n",
       " (1.5854080289670625, 0.44),\n",
       " (1.3530741615595212, 0.441)]"
      ]
     },
     "execution_count": 189,
     "metadata": {},
     "output_type": "execute_result"
    }
   ],
   "source": [
    "predictionAndLabel[:10]"
   ]
  },
  {
   "cell_type": "code",
   "execution_count": 190,
   "id": "59662a03",
   "metadata": {},
   "outputs": [
    {
     "data": {
      "text/plain": [
       "DenseVector([0.0, 0.0, 0.0, 0.0, 0.0, 0.0, 0.0, 0.277, 0.0, 0.0, 0.0])"
      ]
     },
     "execution_count": 190,
     "metadata": {},
     "output_type": "execute_result"
    }
   ],
   "source": [
    "#evaluations\n",
    "linearModel.coefficients"
   ]
  },
  {
   "cell_type": "code",
   "execution_count": 191,
   "id": "1c867a9d",
   "metadata": {},
   "outputs": [
    {
     "data": {
      "text/plain": [
       "0.9916505016472443"
      ]
     },
     "execution_count": 191,
     "metadata": {},
     "output_type": "execute_result"
    }
   ],
   "source": [
    "linearModel.intercept"
   ]
  },
  {
   "cell_type": "code",
   "execution_count": 192,
   "id": "01d8ea87",
   "metadata": {},
   "outputs": [
    {
     "data": {
      "text/plain": [
       "0.8765426709359576"
      ]
     },
     "execution_count": 192,
     "metadata": {},
     "output_type": "execute_result"
    }
   ],
   "source": [
    "linearModel.summary.rootMeanSquaredError"
   ]
  },
  {
   "cell_type": "code",
   "execution_count": 193,
   "id": "b2ff81b6",
   "metadata": {},
   "outputs": [
    {
     "data": {
      "text/plain": [
       "0.4195260943254927"
      ]
     },
     "execution_count": 193,
     "metadata": {},
     "output_type": "execute_result"
    }
   ],
   "source": [
    "linearModel.summary.r2"
   ]
  },
  {
   "cell_type": "code",
   "execution_count": 195,
   "id": "11e124df",
   "metadata": {},
   "outputs": [],
   "source": [
    "sc.stop()"
   ]
  }
 ],
 "metadata": {
  "kernelspec": {
   "display_name": "Python 3 (ipykernel)",
   "language": "python",
   "name": "python3"
  },
  "language_info": {
   "codemirror_mode": {
    "name": "ipython",
    "version": 3
   },
   "file_extension": ".py",
   "mimetype": "text/x-python",
   "name": "python",
   "nbconvert_exporter": "python",
   "pygments_lexer": "ipython3",
   "version": "3.9.12"
  }
 },
 "nbformat": 4,
 "nbformat_minor": 5
}
